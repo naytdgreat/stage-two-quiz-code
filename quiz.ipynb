{
 "cells": [
  {
   "cell_type": "code",
   "execution_count": 1,
   "id": "562b9404",
   "metadata": {},
   "outputs": [],
   "source": [
    "import pandas as pd"
   ]
  },
  {
   "cell_type": "code",
   "execution_count": 2,
   "id": "aefde933",
   "metadata": {},
   "outputs": [],
   "source": [
    "df = pd.read_csv('energydata_complete.csv')\n",
    "df = df.drop(columns=['date', 'lights'])\n",
    "\n",
    "from sklearn.preprocessing import MinMaxScaler\n",
    "scaler = MinMaxScaler()\n",
    "\n",
    "normalized_df = pd.DataFrame(scaler.fit_transform(df), columns=df.columns)\n",
    "features_df = normalized_df.drop(columns=['Appliances'])\n",
    "heating_target = normalized_df['Appliances']"
   ]
  },
  {
   "cell_type": "code",
   "execution_count": 3,
   "id": "54f0b42d",
   "metadata": {},
   "outputs": [],
   "source": [
    "#Split dataset into training and testing dataset\n",
    "from sklearn.model_selection import train_test_split\n",
    "from sklearn.linear_model import LinearRegression\n",
    "\n",
    "x_train, x_test, y_train, y_test = train_test_split(features_df, heating_target, test_size=0.3, random_state=42)\n",
    "\n",
    "linear_model = LinearRegression()\n",
    "#fit the model to the training dataset\n",
    "linear_model.fit(x_train, y_train)\n",
    "\n",
    "#obtain predictions\n",
    "predicted_values = linear_model.predict(x_test)\n",
    "\n",
    "# drake = pd.DataFrame({'Real Values':y_test, 'Predicted Values':predicted_values})\n",
    "# drake"
   ]
  },
  {
   "cell_type": "code",
   "execution_count": 4,
   "id": "3193b334",
   "metadata": {},
   "outputs": [
    {
     "data": {
      "text/plain": [
       "0.05"
      ]
     },
     "execution_count": 4,
     "metadata": {},
     "output_type": "execute_result"
    }
   ],
   "source": [
    "#QUESTION 13\n",
    "#MAE\n",
    "from sklearn.metrics import mean_absolute_error\n",
    "mae = mean_absolute_error(y_test, predicted_values)\n",
    "round(mae, 2)\n",
    "\n",
    "#ANS: 0.05"
   ]
  },
  {
   "cell_type": "code",
   "execution_count": 5,
   "id": "31248129",
   "metadata": {},
   "outputs": [
    {
     "data": {
      "text/plain": [
       "45.35"
      ]
     },
     "execution_count": 5,
     "metadata": {},
     "output_type": "execute_result"
    }
   ],
   "source": [
    "#QUESTION 14\n",
    "#RESIDUAL SUM OF SQUARES\n",
    "import numpy as np\n",
    "rss = np.sum(np.square(y_test - predicted_values))\n",
    "round(rss, 2)\n",
    "\n",
    "#ANS: 45.35"
   ]
  },
  {
   "cell_type": "code",
   "execution_count": 6,
   "id": "a4c26fd6",
   "metadata": {},
   "outputs": [
    {
     "data": {
      "text/plain": [
       "0.088"
      ]
     },
     "execution_count": 6,
     "metadata": {},
     "output_type": "execute_result"
    }
   ],
   "source": [
    "#QUESTION 15\n",
    "\n",
    "#ROOT MEAN SQUARE ERROR (RMSE)\n",
    "from sklearn.metrics import mean_squared_error\n",
    "rmse = np.sqrt(mean_squared_error(y_test, predicted_values))\n",
    "round(rmse, 3)\n",
    "\n",
    "#ANS : 0.088"
   ]
  },
  {
   "cell_type": "code",
   "execution_count": 7,
   "id": "00ad7ef6",
   "metadata": {},
   "outputs": [
    {
     "data": {
      "text/plain": [
       "0.15"
      ]
     },
     "execution_count": 7,
     "metadata": {},
     "output_type": "execute_result"
    }
   ],
   "source": [
    "#QUESTION 16\n",
    "#R-SQUARED(Q0EFICIENT OF DETERMINATION)\n",
    "from sklearn.metrics import r2_score\n",
    "r2_score = r2_score(y_test, predicted_values)\n",
    "round(r2_score, 2)\n",
    "\n",
    "#ANS : 0.15"
   ]
  },
  {
   "cell_type": "code",
   "execution_count": 8,
   "id": "5f02e6e0",
   "metadata": {},
   "outputs": [],
   "source": [
    "#PENALIZATION METHODS\n"
   ]
  },
  {
   "cell_type": "code",
   "execution_count": 9,
   "id": "8feb80fd",
   "metadata": {},
   "outputs": [
    {
     "data": {
      "text/plain": [
       "0.088"
      ]
     },
     "execution_count": 9,
     "metadata": {},
     "output_type": "execute_result"
    }
   ],
   "source": [
    "#Ridge Regression\n",
    "from sklearn.linear_model import Ridge\n",
    "ridge_reg = Ridge(alpha=0.4)\n",
    "ridge_score = ridge_reg.fit(x_train, y_train)\n",
    "round(rmse, 3)"
   ]
  },
  {
   "cell_type": "code",
   "execution_count": 10,
   "id": "83de3281",
   "metadata": {},
   "outputs": [
    {
     "name": "stdout",
     "output_type": "stream",
     "text": [
      "Training score of lasso regression model is 0.025\n",
      "Testing score of lasso regression model is 0.027\n",
      "Number of features for training: 4.000\n"
     ]
    }
   ],
   "source": [
    "#QUESTION 19\n",
    "#LASSO Regression\n",
    "from sklearn.linear_model import Lasso\n",
    "lasso_reg = Lasso(alpha=0.001)\n",
    "lasso_score = lasso_reg.fit(x_train, y_train)\n",
    "lasso_pred = lasso_reg.predict(x_test)\n",
    "train_score = lasso_reg.score(x_train,y_train)\n",
    "test_score = lasso_reg.score(x_test,y_test)\n",
    "print(\"Training score of lasso regression model is {:.3f}\".format(train_score))\n",
    "print(\"Testing score of lasso regression model is {:.3f}\".format(test_score))\n",
    "print(\"Number of features for training: {:.3f}\".format(np.sum(lasso_reg.coef_!=0)))\n",
    "\n",
    "#ANS : 4"
   ]
  },
  {
   "cell_type": "code",
   "execution_count": 11,
   "id": "26408d91",
   "metadata": {},
   "outputs": [
    {
     "name": "stdout",
     "output_type": "stream",
     "text": [
      "       Features  Linear_Model_Weight\n",
      "0          RH_2            -0.456698\n",
      "1         T_out            -0.321860\n",
      "2            T2            -0.236178\n",
      "3            T9            -0.189941\n",
      "4          RH_8            -0.157595\n",
      "5        RH_out            -0.077671\n",
      "6          RH_7            -0.044614\n",
      "7          RH_9            -0.039800\n",
      "8            T5            -0.015657\n",
      "9            T1            -0.003281\n",
      "10          rv1             0.000770\n",
      "11          rv2             0.000770\n",
      "12  Press_mm_hg             0.006839\n",
      "13           T7             0.010319\n",
      "14   Visibility             0.012307\n",
      "15         RH_5             0.016006\n",
      "16         RH_4             0.026386\n",
      "17           T4             0.028981\n",
      "18    Windspeed             0.029183\n",
      "19         RH_6             0.038049\n",
      "20         RH_3             0.096048\n",
      "21           T8             0.101995\n",
      "22    Tdewpoint             0.117758\n",
      "23           T6             0.236425\n",
      "24           T3             0.290627\n",
      "25         RH_1             0.553547\n"
     ]
    }
   ],
   "source": [
    "#QUESTION 17\n",
    "#comparing the effects of regularization\n",
    "\n",
    "#Create a function\n",
    "def get_weights_df(model, feat, col_name):\n",
    "    #this function returns the weight of every feature\n",
    "    weights = pd.Series(model.coef_, feat.columns).sort_values()\n",
    "    weights_df = pd.DataFrame(weights).reset_index()\n",
    "    weights_df.columns = ['Features', col_name]\n",
    "    weights_df[col_name].round(3)\n",
    "    return weights_df\n",
    "\n",
    "linear_model_weights = get_weights_df(linear_model, x_train, 'Linear_Model_Weight')\n",
    "ridge_weights_df = get_weights_df(ridge_reg, x_train, 'Ridge_Weight')\n",
    "lasso_weights_df = get_weights_df(lasso_reg, x_train, 'Lasso_Weight')\n",
    "\n",
    "final_weights = pd.merge(linear_model_weights, ridge_weights_df, on='Features')\n",
    "final_weights = pd.merge(final_weights, lasso_weights_df, on='Features')\n",
    "#print(final_weights)\n",
    "print(linear_model_weights)\n",
    "\n",
    "#ANS : RH_2, RH_1"
   ]
  },
  {
   "cell_type": "code",
   "execution_count": 12,
   "id": "cbadb03f",
   "metadata": {},
   "outputs": [
    {
     "name": "stdout",
     "output_type": "stream",
     "text": [
      "root mean squared error for lasso model:0.094\n"
     ]
    }
   ],
   "source": [
    "#QUESTION 20\n",
    "# Rmse for lasso model\n",
    "from sklearn.metrics import mean_squared_error\n",
    "mse = mean_squared_error(y_test,lasso_pred)\n",
    "rmse = np.sqrt(mse)\n",
    "print(\"root mean squared error for lasso model:{}\".format(round(rmse,3)))\n",
    "\n",
    "#ANS : 0.094"
   ]
  }
 ],
 "metadata": {
  "kernelspec": {
   "display_name": "Python 3 (ipykernel)",
   "language": "python",
   "name": "python3"
  },
  "language_info": {
   "codemirror_mode": {
    "name": "ipython",
    "version": 3
   },
   "file_extension": ".py",
   "mimetype": "text/x-python",
   "name": "python",
   "nbconvert_exporter": "python",
   "pygments_lexer": "ipython3",
   "version": "3.9.7"
  }
 },
 "nbformat": 4,
 "nbformat_minor": 5
}
